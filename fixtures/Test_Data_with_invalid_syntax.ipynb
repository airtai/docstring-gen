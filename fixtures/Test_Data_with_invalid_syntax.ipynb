{
 "cells": [
  {
   "cell_type": "markdown",
   "id": "d2c32d11",
   "metadata": {},
   "source": [
    "# Test with invalid syntax\n",
    "\n",
    "> Test with invalid syntax"
   ]
  },
  {
   "cell_type": "code",
   "execution_count": null,
   "id": "67848556",
   "metadata": {},
   "outputs": [],
   "source": [
    "from tempfile import TemporaryDirectory"
   ]
  },
  {
   "cell_type": "code",
   "execution_count": null,
   "id": "7e71cc10",
   "metadata": {},
   "outputs": [
    {
     "name": "stdout",
     "output_type": "stream",
     "text": [
      "total 0\r\n",
      "drwx------    2 harishm  staff    64 Jan 20 16:42 \u001b[34m.\u001b[m\u001b[m\r\n",
      "drwx------@ 135 harishm  staff  4320 Jan 20 16:42 \u001b[34m..\u001b[m\u001b[m\r\n"
     ]
    }
   ],
   "source": [
    "with TemporaryDirectory() as d:\n",
    "    !ls -la {d}"
   ]
  },
  {
   "cell_type": "code",
   "execution_count": null,
   "id": "030c3a55",
   "metadata": {},
   "outputs": [],
   "source": []
  }
 ],
 "metadata": {
  "kernelspec": {
   "display_name": "Python 3 (ipykernel)",
   "language": "python",
   "name": "python3"
  }
 },
 "nbformat": 4,
 "nbformat_minor": 5
}
