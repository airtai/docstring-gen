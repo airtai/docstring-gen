{
 "cells": [
  {
   "cell_type": "markdown",
   "id": "d2c32d11",
   "metadata": {},
   "source": [
    "# Test notebook for docstring generator\n",
    "\n",
    "> Test notebook for docstring generator"
   ]
  },
  {
   "cell_type": "code",
   "execution_count": null,
   "id": "0227401e",
   "metadata": {},
   "outputs": [],
   "source": [
    "# | export\n",
    "\n",
    "from typing import *\n",
    "import os\n",
    "from pathlib import Path\n",
    "# from contextlib import contextmanager\n"
   ]
  },
  {
   "cell_type": "code",
   "execution_count": null,
   "id": "f632424c",
   "metadata": {},
   "outputs": [],
   "source": [
    "from contextlib import contextmanager\n",
    "\n",
    "import shutil\n",
    "from tempfile import TemporaryDirectory\n"
   ]
  },
  {
   "cell_type": "markdown",
   "id": "b3a459a8",
   "metadata": {},
   "source": [
    "# Title"
   ]
  },
  {
   "cell_type": "code",
   "execution_count": null,
   "id": "69511ac7",
   "metadata": {},
   "outputs": [],
   "source": [
    "# | export\n",
    "\n",
    "# Vehicle class\n",
    "class Vehicle:\n",
    "    # Constructor function\n",
    "    def __init__(self, brand, model, type):\n",
    "        \"\"\"Constructor function\n",
    "        \n",
    "        Args:\n",
    "            brand: Vehicle's brand\n",
    "            model: Vehicle's model\n",
    "            type: Vehicle's type\n",
    "        \"\"\"\n",
    "        self.brand = brand\n",
    "        self.model = model\n",
    "        self.type = type\n",
    "        self.gas_tank_size = 14\n",
    "        self.fuel_level = 0\n",
    "    \n",
    "    # fuel_up function\n",
    "    def fuel_up(self):\n",
    "        # comment goes here\n",
    "        self.fuel_level = self.gas_tank_size\n",
    "        return 'Gas tank is now full.'\n",
    "\n",
    "    # drive function\n",
    "    async def drive(self):\n",
    "        print(f'The {self.model} is now driving.')"
   ]
  },
  {
   "cell_type": "code",
   "execution_count": null,
   "id": "ca9f5c9a",
   "metadata": {},
   "outputs": [
    {
     "name": "stdout",
     "output_type": "stream",
     "text": [
      "Gas tank is now full.\n"
     ]
    }
   ],
   "source": [
    "v = Vehicle(\"honda\", \"city\", \"hatchback\")\n",
    "actual = v.fuel_up()\n",
    "\n",
    "print(actual)\n",
    "assert actual == 'Gas tank is now full.'"
   ]
  },
  {
   "cell_type": "markdown",
   "id": "fa0de4a6",
   "metadata": {},
   "source": [
    "\n",
    "This is a sample markdown cell. The texts goes here\n"
   ]
  },
  {
   "cell_type": "code",
   "execution_count": null,
   "id": "d420f665",
   "metadata": {},
   "outputs": [],
   "source": [
    "def say_hello(name: str) -> str:\n",
    "    return f\"Hello, {name}\"\n",
    "    \n",
    "async def function_with_docstring(name: str) -> str:\n",
    "    \"\"\" This function already has docstring\"\"\"\n",
    "    return f\"I won't say hello, {name}\"\n",
    "    \n",
    "async def dont_say_hello(name: str) -> str:\n",
    "    return f\"I won't say hello, {name}\"\n",
    "    "
   ]
  },
  {
   "cell_type": "code",
   "execution_count": null,
   "id": "a09dce5e",
   "metadata": {},
   "outputs": [],
   "source": [
    "def decorator1(func):\n",
    "    def inner():\n",
    "        func()\n",
    "    return inner\n",
    "\n",
    "def decorator2(func):\n",
    "    def inner():\n",
    "        func()\n",
    "    return inner\n",
    "\n",
    "@decorator1\n",
    "@decorator2\n",
    "def outer_func():\n",
    "    def inner_func():\n",
    "        print(\"Hello, World!\")\n",
    "    inner_func()"
   ]
  },
  {
   "cell_type": "code",
   "execution_count": null,
   "id": "0f15cbf9",
   "metadata": {},
   "outputs": [],
   "source": [
    "@contextmanager\n",
    "def my_context_mgr():\n",
    "    try:\n",
    "        yield\n",
    "    finally:\n",
    "        pass"
   ]
  },
  {
   "cell_type": "code",
   "execution_count": null,
   "id": "67848556",
   "metadata": {},
   "outputs": [],
   "source": []
  }
 ],
 "metadata": {
  "kernelspec": {
   "display_name": "Python 3 (ipykernel)",
   "language": "python",
   "name": "python3"
  }
 },
 "nbformat": 4,
 "nbformat_minor": 5
}
